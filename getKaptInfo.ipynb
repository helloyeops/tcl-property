{
 "cells": [
  {
   "cell_type": "code",
   "execution_count": 1,
   "metadata": {},
   "outputs": [],
   "source": [
    "import requests\n",
    "import json\n",
    "import pandas as pd\n",
    "import datetime"
   ]
  },
  {
   "cell_type": "code",
   "execution_count": 73,
   "metadata": {},
   "outputs": [
    {
     "name": "stdout",
     "output_type": "stream",
     "text": [
      "http://www.k-apt.go.kr\n",
      "/kaptinfo/getKaptInfo_poi.do\n"
     ]
    }
   ],
   "source": [
    "# 공동주택관리정보시스템(www.k-apt.go.kr)\n",
    "API_HOST = 'http://www.k-apt.go.kr'\n",
    "API_SERVICE = '/kaptinfo/getKaptInfo_poi.do'\n",
    "\n",
    "print(API_HOST)\n",
    "print(API_SERVICE)"
   ]
  },
  {
   "cell_type": "code",
   "execution_count": 74,
   "metadata": {},
   "outputs": [
    {
     "name": "stdout",
     "output_type": "stream",
     "text": [
      "[41135101, 41135102, 41135103, 41135104, 41135105, 41135106, 41135107, 41135109, 41135110, 41135107, 41135108, 41135111, 41135112, 41135113, 41135114, 41135115, 41135116, 41135117, 41135118]\n",
      "201809\n"
     ]
    }
   ],
   "source": [
    "# 성남시 분당구 내 법정도 코드 목록\n",
    "bjd_codes = [\n",
    "    41135101,41135102,41135103,41135104,41135105,41135106,41135107,\n",
    "    41135109,41135110,41135107,41135108,41135111,41135112,41135113,\n",
    "    41135114,41135115,41135116,41135117,41135118\n",
    "]\n",
    "\n",
    "now = datetime.datetime.now()\n",
    "now = now.replace(month=now.month - 1)\n",
    "# 검색 기준 년월(last month)\n",
    "search_date = now.strftime(\"%Y%m\")\n",
    "\n",
    "print(bjd_codes)\n",
    "print(search_date)"
   ]
  },
  {
   "cell_type": "code",
   "execution_count": 75,
   "metadata": {},
   "outputs": [
    {
     "name": "stdout",
     "output_type": "stream",
     "text": [
      "{'bjd_code': 41135101, 'search_date': '201809'}\n"
     ]
    }
   ],
   "source": [
    "params = {\n",
    "  'bjd_code': bjd_codes[0],\n",
    "  'search_date': search_date\n",
    "}\n",
    "\n",
    "print(params)"
   ]
  },
  {
   "cell_type": "code",
   "execution_count": 76,
   "metadata": {},
   "outputs": [
    {
     "name": "stdout",
     "output_type": "stream",
     "text": [
      "http://www.k-apt.go.kr/kaptinfo/getKaptInfo_poi.do?bjd_code=41135101&search_date=201809\n"
     ]
    }
   ],
   "source": [
    "req = requests.get(API_HOST + API_SERVICE, params=params)\n",
    "\n",
    "print(req.url)"
   ]
  },
  {
   "cell_type": "code",
   "execution_count": 77,
   "metadata": {},
   "outputs": [
    {
     "name": "stdout",
     "output_type": "stream",
     "text": [
      "[{'KAPT_NAME': '분당샛별마을동성', 'KAPT_CODE': 'A46374703', 'X_COORD': 211624.82, 'Y_COORD': 430024.28}, {'KAPT_NAME': '분당샛별마을라이프', 'KAPT_CODE': 'A46374805', 'X_COORD': 211444.925, 'Y_COORD': 430181.255}, {'KAPT_NAME': '분당샛별마을삼부', 'KAPT_CODE': 'A46374904', 'X_COORD': 211378.63, 'Y_COORD': 429854.475}, {'KAPT_NAME': '분당샛별마을우방', 'KAPT_CODE': 'A46375006', 'X_COORD': 211243.385, 'Y_COORD': 429993.895}, {'KAPT_NAME': '분당건영두산빌라', 'KAPT_CODE': 'A46383201', 'X_COORD': 212822.285, 'Y_COORD': 430060.305}, {'KAPT_NAME': '분당장안타운한신라이프', 'KAPT_CODE': 'A46383202', 'X_COORD': 212641.17, 'Y_COORD': 430182.385}, {'KAPT_NAME': '분당장안타운건영2차', 'KAPT_CODE': 'A46390707', 'X_COORD': 212612.1, 'Y_COORD': 429936.8}, {'KAPT_NAME': '분당장안타운건영2차', 'KAPT_CODE': 'A46390707', 'X_COORD': 212500.775, 'Y_COORD': 430017.405}, {'KAPT_NAME': '분당장안타운건영2차', 'KAPT_CODE': 'A46390707', 'X_COORD': 212403.99, 'Y_COORD': 429702.37}]\n"
     ]
    }
   ],
   "source": [
    "res = req.json()\n",
    "\n",
    "# print(type(res_json))\n",
    "print(res['resultList'])"
   ]
  },
  {
   "cell_type": "code",
   "execution_count": 79,
   "metadata": {},
   "outputs": [
    {
     "name": "stdout",
     "output_type": "stream",
     "text": [
      "[ 1] 아파트명: 분당샛별마을동성, 아파트 코드 : A46374703\n",
      "[ 2] 아파트명: 분당샛별마을라이프, 아파트 코드 : A46374805\n",
      "[ 3] 아파트명: 분당샛별마을삼부, 아파트 코드 : A46374904\n",
      "[ 4] 아파트명: 분당샛별마을우방, 아파트 코드 : A46375006\n",
      "[ 5] 아파트명: 분당건영두산빌라, 아파트 코드 : A46383201\n",
      "[ 6] 아파트명: 분당장안타운한신라이프, 아파트 코드 : A46383202\n",
      "[ 7] 아파트명: 분당장안타운건영2차, 아파트 코드 : A46390707\n",
      "[ 8] 아파트명: 분당장안타운건영2차, 아파트 코드 : A46390707\n",
      "[ 9] 아파트명: 분당장안타운건영2차, 아파트 코드 : A46390707\n"
     ]
    }
   ],
   "source": [
    "kapts = res['resultList']\n",
    "\n",
    "epoch = 0\n",
    "for kapt in kapts:\n",
    "    epoch = epoch + 1\n",
    "    print(\"[%2d] 아파트명: %s, 아파트 코드 : %s\" % (epoch,  kapt['KAPT_NAME'], kapt['KAPT_CODE']))"
   ]
  },
  {
   "cell_type": "code",
   "execution_count": 80,
   "metadata": {},
   "outputs": [
    {
     "name": "stdout",
     "output_type": "stream",
     "text": [
      "/kaptinfo/getKaptInfo_detail.do\n",
      "{'kapt_code': 'A46374703'}\n"
     ]
    }
   ],
   "source": [
    "API_SERVICE = '/kaptinfo/getKaptInfo_detail.do'\n",
    "kapt_code = kapts[0]['KAPT_CODE']\n",
    "\n",
    "params = {\n",
    "    'kapt_code' : kapt_code\n",
    "}\n",
    "\n",
    "print(API_SERVICE)\n",
    "print(params)"
   ]
  },
  {
   "cell_type": "code",
   "execution_count": 84,
   "metadata": {},
   "outputs": [
    {
     "name": "stdout",
     "output_type": "stream",
     "text": [
      "http://www.k-apt.go.kr/kaptinfo/getKaptInfo_detail.do\n"
     ]
    }
   ],
   "source": [
    "req = requests.post(API_HOST + API_SERVICE, data=params)\n",
    "\n",
    "print(req.url)"
   ]
  },
  {
   "cell_type": "code",
   "execution_count": 85,
   "metadata": {},
   "outputs": [
    {
     "name": "stdout",
     "output_type": "stream",
     "text": [
      "{'resultMap_match': {'KAPT_CODE': 'A46374703', 'TOWN_CODE': 6208}, 'resultMap_kapt': {'CODE_HEAT': '지역난방', 'SUBWAY_STATION': '서현', 'SUBWAY_LINE': '중앙선', 'KAPT_PE1AREA': 0, 'KAPT_PE2AREA': 0, 'KAPT_PE3AREA': 0, 'KAPT_PEAREA': 0, 'KAPT_PE4AREA': 0, 'DISPOSAL_TYPE': '-', 'KAPT_PE5AREA': 0, 'KAPTD_ECNTB': 0, 'KAPTD_ECNTC': 0, 'KAPT_PHAREA': 0, 'KAPTD_ECNTD': 0, 'KAPTD_SCNT': '10', 'KAPTD_ECNTE': 0, 'CODE_ECON': '종합계약', 'KAPT_PPAREA': 0, 'KAPTD_CCCNT': '104', 'KAPTD_ECNTM': 0, 'KAPT_TEL': '031-701-6001', 'WELFARE_FACILITY': '-', 'KAPTD_ECNTP': 18, 'KAPT_FAX': '031-704-6004', 'KAPT_ACC_COMPANY': '-', 'SETDAY_TEMP_YN': 'N', 'KAPT_MGR_CNT': '7', 'KAPT_BCOMPANY': '동성건설', 'CONVENIENT_FACILITY': '관공서(분당동사무소) 병원(분당부부치과) 공원(태현공원)', 'CODE_DISINF': '기타', 'CODE_EMGR': '상주선임', 'CODE_MGR': '위탁관리', 'KAPTD_PCNTU': '261', 'CODE_EMAINT': '자치관리', 'KAPT_MCAREA': 0, 'CODE_ELEV': '위탁관리', 'KAPT_MEAREA': 0, 'CODE_NET': '무', 'KAPT_MHAREA': 0, 'KAPT_USEDATE': '1992-06-30', 'KAPTD_WTIMEBUS': '15~20분이내', 'KAPT_CODE': 'A46374703', 'CODE_APT': '아파트', 'CODE_WSUPPLY': '부스타방식', 'KAPT_MPAREA': 0, 'KAPT_MAREA': 49115.28, 'KAPT_PAREA': 0, 'KAPT_TAREA': 72940.247, 'CODE_FALARM': 'P형', 'KAPTD_SEC_COM': '에코그린티엠', 'KAPTD_ECAPA': '1715', 'CODE_STR': '철근콘크리트구조', 'APPL_CODE': None, 'KAPT_ME1AREA': 0, 'KAPT_ACOMPANY': '동성건설', 'KAPT_ME2AREA': 0, 'KAPT_ME3AREA': 0, 'CODE_GARBAGE': '-', 'KAPT_ME4AREA': 0, 'KAPT_ME5AREA': 0, 'CODE_CLTIME': '6', 'CODE_HALL': '혼합식', 'CODE_STIME': '-', 'KAPT_NAME': '분당샛별마을동성', 'KAPT_DONG_CNT': '9', 'CODE_CLEAN': '위탁관리', 'CODE_SALE': '분양', 'CODE_SEC': '위탁관리', 'EMPTY_HO_CNT': 0, 'APPL_PRODATE': '', 'KAPT_URL': '샛별마을동성.ma-um.co.kr', 'KAPTD_CLCNT': '4', 'KAPTD_PCNT': '237', 'KAPTD_WTIMESUB': '15~20분이내', 'KAPTD_DCNT': '12', 'EDUCATION_FACILITY': '초등학교(당촌초교,서당초교,) 중학교(양영중교,장안중교) 고등학교(대진고교,양영디지탈고교)', 'SETDAY_TEMP_XLS_YN': 'N', 'KAPT_CCOMPANY': '(주)현대개발'}, 'resultMap_kapt_areacnt': [{'KAPTDA_CNT': 120, 'AREA_GBN': 1, 'KAPT_CODE': 'A46374703'}, {'KAPTDA_CNT': 360, 'AREA_GBN': 2, 'KAPT_CODE': 'A46374703'}, {'KAPTDA_CNT': 102, 'AREA_GBN': 3, 'KAPT_CODE': 'A46374703'}, {'KAPTDA_CNT': None, 'AREA_GBN': 4, 'KAPT_CODE': None}], 'resultMap_kapt_addrList': [{'ADDR': '경기도 성남분당구 분당동 35 샛별마을', 'KAPT_CODE': 'A46374703', 'ADDR_GBN': 'B'}, {'ADDR': '경기도 성남시 분당구 분당로 212', 'KAPT_CODE': 'A46374703', 'ADDR_GBN': 'R'}]}\n"
     ]
    }
   ],
   "source": [
    "print(req.json())"
   ]
  },
  {
   "cell_type": "code",
   "execution_count": null,
   "metadata": {},
   "outputs": [],
   "source": []
  }
 ],
 "metadata": {
  "kernelspec": {
   "display_name": "Python 3",
   "language": "python",
   "name": "python3"
  },
  "language_info": {
   "codemirror_mode": {
    "name": "ipython",
    "version": 3
   },
   "file_extension": ".py",
   "mimetype": "text/x-python",
   "name": "python",
   "nbconvert_exporter": "python",
   "pygments_lexer": "ipython3",
   "version": "3.7.0"
  }
 },
 "nbformat": 4,
 "nbformat_minor": 2
}
