{
 "cells": [
  {
   "cell_type": "code",
   "execution_count": 1,
   "metadata": {},
   "outputs": [],
   "source": [
    "# 서비스명 : 아파트매매 실거래자료\n",
    "# 제공    : 공공데이터포털\n",
    "\n",
    "import requests\n",
    "import json\n",
    "import pandas as pd\n",
    "import datetime\n",
    "import time"
   ]
  },
  {
   "cell_type": "code",
   "execution_count": 25,
   "metadata": {
    "scrolled": true
   },
   "outputs": [
    {
     "name": "stdout",
     "output_type": "stream",
     "text": [
      "{'LAWD_CD': 41135, 'DEAL_YMD': '201810', '_type': 'json', 'serviceKey': '/P/Illlk9vLZCORgEzCUfeDjf5tjElZFhAVORx++etX1vB4tcrMFhOMQ7aKmjXoGKy5rLZ6gfBRKjX4iuoRNzQ=='}\n"
     ]
    }
   ],
   "source": [
    "\n",
    "# 국토부 API END POINT\n",
    "API_HOST = 'http://openapi.molit.go.kr:8081'\n",
    "API_SERVICE = '/OpenAPI_ToolInstallPackage/service/rest/RTMSOBJSvc/getRTMSDataSvcAptTrade'\n",
    "API_SERVICE_KEY = '/P/Illlk9vLZCORgEzCUfeDjf5tjElZFhAVORx++etX1vB4tcrMFhOMQ7aKmjXoGKy5rLZ6gfBRKjX4iuoRNzQ=='\n",
    "LAWD_CD = 41135 # 분당구 전체\n",
    "RES_TYPE = 'json'\n",
    "\n",
    "now = datetime.datetime.now()\n",
    "deal_ymd = now.strftime(\"%Y%m\")\n",
    "\n",
    "params = {\n",
    "  'LAWD_CD': LAWD_CD,\n",
    "  'DEAL_YMD': deal_ymd,\n",
    "  '_type': RES_TYPE,\n",
    "  'serviceKey': API_SERVICE_KEY,\n",
    "}\n",
    "\n",
    "print(params)"
   ]
  },
  {
   "cell_type": "code",
   "execution_count": 26,
   "metadata": {},
   "outputs": [
    {
     "name": "stdout",
     "output_type": "stream",
     "text": [
      "http://openapi.molit.go.kr:8081/OpenAPI_ToolInstallPackage/service/rest/RTMSOBJSvc/getRTMSDataSvcAptTrade?LAWD_CD=41135&DEAL_YMD=201810&_type=json&serviceKey=%2FP%2FIlllk9vLZCORgEzCUfeDjf5tjElZFhAVORx%2B%2BetX1vB4tcrMFhOMQ7aKmjXoGKy5rLZ6gfBRKjX4iuoRNzQ%3D%3D\n"
     ]
    }
   ],
   "source": [
    "req = requests.get(API_HOST + API_SERVICE, params=params)\n",
    "\n",
    "print(req.url)"
   ]
  },
  {
   "cell_type": "code",
   "execution_count": 27,
   "metadata": {},
   "outputs": [
    {
     "data": {
      "text/plain": [
       "{'response': {'header': {'resultCode': '00', 'resultMsg': 'NORMAL SERVICE.'},\n",
       "  'body': {'items': {'item': {'거래금액': '   100,000',\n",
       "     '건축년도': 2007,\n",
       "     '년': 2018,\n",
       "     '법정동': ' 정자동',\n",
       "     '아파트': '분당더샵스타파크',\n",
       "     '월': 10,\n",
       "     '일': '1~10',\n",
       "     '전용면적': 117.2333,\n",
       "     '지번': '174-1',\n",
       "     '지역코드': 41135,\n",
       "     '층': 35}},\n",
       "   'numOfRows': 10,\n",
       "   'pageNo': 1,\n",
       "   'totalCount': 1}}}"
      ]
     },
     "execution_count": 27,
     "metadata": {},
     "output_type": "execute_result"
    }
   ],
   "source": [
    "res_json = req.json()\n",
    "res_json"
   ]
  },
  {
   "cell_type": "code",
   "execution_count": 30,
   "metadata": {},
   "outputs": [],
   "source": [
    "data = res_json['response']['body']['items']['item']\n",
    "\n",
    "if (type(data) == dict):\n",
    "    df = pd.DataFrame.from_dict([data])\n",
    "else:\n",
    "    df = pd.DataFrame.from_dict(data)    "
   ]
  },
  {
   "cell_type": "code",
   "execution_count": 31,
   "metadata": {},
   "outputs": [
    {
     "name": "stdout",
     "output_type": "stream",
     "text": [
      "거래금액      int64\n",
      "건축년도      int64\n",
      "년         int64\n",
      "법정동      object\n",
      "아파트      object\n",
      "월         int64\n",
      "일        object\n",
      "전용면적    float64\n",
      "지번       object\n",
      "지역코드      int64\n",
      "층         int64\n",
      "dtype: object\n"
     ]
    }
   ],
   "source": [
    "df['거래금액'] = df['거래금액'].str.replace(',', '')\n",
    "df['거래금액'] = df['거래금액'].astype('int64')\n",
    "df['법정동'] = df['법정동'].str.strip()\n",
    "\n",
    "print(df.dtypes)"
   ]
  },
  {
   "cell_type": "code",
   "execution_count": 33,
   "metadata": {},
   "outputs": [],
   "source": [
    "df.to_csv(\"data/\" + deal_ymd + \"_deals.csv\", index=False)"
   ]
  },
  {
   "cell_type": "code",
   "execution_count": 34,
   "metadata": {},
   "outputs": [],
   "source": [
    "last = now.replace(month=now.month-1)\n",
    "deal_ymd = last.strftime(\"%Y%m\")\n",
    "\n",
    "params['DEAL_YMD'] = deal_ymd"
   ]
  },
  {
   "cell_type": "code",
   "execution_count": 112,
   "metadata": {},
   "outputs": [
    {
     "name": "stdout",
     "output_type": "stream",
     "text": [
      "http://openapi.molit.go.kr:8081/OpenAPI_ToolInstallPackage/service/rest/RTMSOBJSvc/getRTMSDataSvcAptTrade?LAWD_CD=41135&DEAL_YMD=201808&_type=json&serviceKey=%2FP%2FIlllk9vLZCORgEzCUfeDjf5tjElZFhAVORx%2B%2BetX1vB4tcrMFhOMQ7aKmjXoGKy5rLZ6gfBRKjX4iuoRNzQ%3D%3D\n"
     ]
    }
   ],
   "source": [
    "req = requests.get(API_HOST + API_SERVICE, params=params)\n",
    "\n",
    "print(req.url)"
   ]
  },
  {
   "cell_type": "code",
   "execution_count": 117,
   "metadata": {},
   "outputs": [],
   "source": [
    "res_json = req.json()"
   ]
  },
  {
   "cell_type": "code",
   "execution_count": 35,
   "metadata": {},
   "outputs": [],
   "source": [
    "data = res_json['response']['body']['items']['item']\n",
    "\n",
    "if (type(data) == dict):\n",
    "    df = pd.DataFrame.from_dict([data])\n",
    "else:\n",
    "    df = pd.DataFrame.from_dict(data)"
   ]
  },
  {
   "cell_type": "code",
   "execution_count": 36,
   "metadata": {},
   "outputs": [
    {
     "name": "stdout",
     "output_type": "stream",
     "text": [
      "거래금액      int64\n",
      "건축년도      int64\n",
      "년         int64\n",
      "법정동      object\n",
      "아파트      object\n",
      "월         int64\n",
      "일        object\n",
      "전용면적    float64\n",
      "지번       object\n",
      "지역코드      int64\n",
      "층         int64\n",
      "dtype: object\n"
     ]
    }
   ],
   "source": [
    "df['거래금액'] = df['거래금액'].str.replace(',', '')\n",
    "df['거래금액'] = df['거래금액'].astype('int64')\n",
    "df['법정동'] = df['법정동'].str.strip()\n",
    "\n",
    "print(df.dtypes)"
   ]
  },
  {
   "cell_type": "code",
   "execution_count": 37,
   "metadata": {},
   "outputs": [],
   "source": [
    "df.to_csv(\"data/\" + deal_ymd + \"_deals.csv\", index=False)"
   ]
  },
  {
   "cell_type": "code",
   "execution_count": null,
   "metadata": {},
   "outputs": [],
   "source": []
  }
 ],
 "metadata": {
  "kernelspec": {
   "display_name": "Python 3",
   "language": "python",
   "name": "python3"
  },
  "language_info": {
   "codemirror_mode": {
    "name": "ipython",
    "version": 3
   },
   "file_extension": ".py",
   "mimetype": "text/x-python",
   "name": "python",
   "nbconvert_exporter": "python",
   "pygments_lexer": "ipython3",
   "version": "3.7.0"
  }
 },
 "nbformat": 4,
 "nbformat_minor": 2
}
